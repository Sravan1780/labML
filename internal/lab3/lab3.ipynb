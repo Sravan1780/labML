{
 "cells": [
  {
   "cell_type": "code",
   "execution_count": 1,
   "id": "d780334a",
   "metadata": {},
   "outputs": [],
   "source": [
    "import numpy as numpy\n",
    "import pandas as pd\n",
    "import matplotlib.pyplot as plt"
   ]
  },
  {
   "cell_type": "code",
   "execution_count": 4,
   "id": "164ba9a4",
   "metadata": {},
   "outputs": [
    {
     "data": {
      "text/html": [
       "<div>\n",
       "<style scoped>\n",
       "    .dataframe tbody tr th:only-of-type {\n",
       "        vertical-align: middle;\n",
       "    }\n",
       "\n",
       "    .dataframe tbody tr th {\n",
       "        vertical-align: top;\n",
       "    }\n",
       "\n",
       "    .dataframe thead th {\n",
       "        text-align: right;\n",
       "    }\n",
       "</style>\n",
       "<table border=\"1\" class=\"dataframe\">\n",
       "  <thead>\n",
       "    <tr style=\"text-align: right;\">\n",
       "      <th></th>\n",
       "      <th>TV</th>\n",
       "      <th>Sales</th>\n",
       "    </tr>\n",
       "  </thead>\n",
       "  <tbody>\n",
       "    <tr>\n",
       "      <th>0</th>\n",
       "      <td>230.1</td>\n",
       "      <td>22.1</td>\n",
       "    </tr>\n",
       "    <tr>\n",
       "      <th>1</th>\n",
       "      <td>44.5</td>\n",
       "      <td>10.4</td>\n",
       "    </tr>\n",
       "    <tr>\n",
       "      <th>2</th>\n",
       "      <td>17.2</td>\n",
       "      <td>9.3</td>\n",
       "    </tr>\n",
       "    <tr>\n",
       "      <th>3</th>\n",
       "      <td>151.5</td>\n",
       "      <td>18.5</td>\n",
       "    </tr>\n",
       "    <tr>\n",
       "      <th>4</th>\n",
       "      <td>180.8</td>\n",
       "      <td>12.9</td>\n",
       "    </tr>\n",
       "    <tr>\n",
       "      <th>...</th>\n",
       "      <td>...</td>\n",
       "      <td>...</td>\n",
       "    </tr>\n",
       "    <tr>\n",
       "      <th>195</th>\n",
       "      <td>38.2</td>\n",
       "      <td>7.6</td>\n",
       "    </tr>\n",
       "    <tr>\n",
       "      <th>196</th>\n",
       "      <td>94.2</td>\n",
       "      <td>9.7</td>\n",
       "    </tr>\n",
       "    <tr>\n",
       "      <th>197</th>\n",
       "      <td>177.0</td>\n",
       "      <td>12.8</td>\n",
       "    </tr>\n",
       "    <tr>\n",
       "      <th>198</th>\n",
       "      <td>283.6</td>\n",
       "      <td>25.5</td>\n",
       "    </tr>\n",
       "    <tr>\n",
       "      <th>199</th>\n",
       "      <td>232.1</td>\n",
       "      <td>13.4</td>\n",
       "    </tr>\n",
       "  </tbody>\n",
       "</table>\n",
       "<p>200 rows × 2 columns</p>\n",
       "</div>"
      ],
      "text/plain": [
       "        TV  Sales\n",
       "0    230.1   22.1\n",
       "1     44.5   10.4\n",
       "2     17.2    9.3\n",
       "3    151.5   18.5\n",
       "4    180.8   12.9\n",
       "..     ...    ...\n",
       "195   38.2    7.6\n",
       "196   94.2    9.7\n",
       "197  177.0   12.8\n",
       "198  283.6   25.5\n",
       "199  232.1   13.4\n",
       "\n",
       "[200 rows x 2 columns]"
      ]
     },
     "execution_count": 4,
     "metadata": {},
     "output_type": "execute_result"
    }
   ],
   "source": [
    "df = pd.read_csv(\"tvmarketing.csv\")\n",
    "df"
   ]
  },
  {
   "cell_type": "code",
   "execution_count": 5,
   "id": "5dd58966",
   "metadata": {},
   "outputs": [
    {
     "data": {
      "text/html": [
       "<div>\n",
       "<style scoped>\n",
       "    .dataframe tbody tr th:only-of-type {\n",
       "        vertical-align: middle;\n",
       "    }\n",
       "\n",
       "    .dataframe tbody tr th {\n",
       "        vertical-align: top;\n",
       "    }\n",
       "\n",
       "    .dataframe thead th {\n",
       "        text-align: right;\n",
       "    }\n",
       "</style>\n",
       "<table border=\"1\" class=\"dataframe\">\n",
       "  <thead>\n",
       "    <tr style=\"text-align: right;\">\n",
       "      <th></th>\n",
       "      <th>TV</th>\n",
       "      <th>Sales</th>\n",
       "    </tr>\n",
       "  </thead>\n",
       "  <tbody>\n",
       "    <tr>\n",
       "      <th>count</th>\n",
       "      <td>200.000000</td>\n",
       "      <td>200.000000</td>\n",
       "    </tr>\n",
       "    <tr>\n",
       "      <th>mean</th>\n",
       "      <td>147.042500</td>\n",
       "      <td>14.022500</td>\n",
       "    </tr>\n",
       "    <tr>\n",
       "      <th>std</th>\n",
       "      <td>85.854236</td>\n",
       "      <td>5.217457</td>\n",
       "    </tr>\n",
       "    <tr>\n",
       "      <th>min</th>\n",
       "      <td>0.700000</td>\n",
       "      <td>1.600000</td>\n",
       "    </tr>\n",
       "    <tr>\n",
       "      <th>25%</th>\n",
       "      <td>74.375000</td>\n",
       "      <td>10.375000</td>\n",
       "    </tr>\n",
       "    <tr>\n",
       "      <th>50%</th>\n",
       "      <td>149.750000</td>\n",
       "      <td>12.900000</td>\n",
       "    </tr>\n",
       "    <tr>\n",
       "      <th>75%</th>\n",
       "      <td>218.825000</td>\n",
       "      <td>17.400000</td>\n",
       "    </tr>\n",
       "    <tr>\n",
       "      <th>max</th>\n",
       "      <td>296.400000</td>\n",
       "      <td>27.000000</td>\n",
       "    </tr>\n",
       "  </tbody>\n",
       "</table>\n",
       "</div>"
      ],
      "text/plain": [
       "               TV       Sales\n",
       "count  200.000000  200.000000\n",
       "mean   147.042500   14.022500\n",
       "std     85.854236    5.217457\n",
       "min      0.700000    1.600000\n",
       "25%     74.375000   10.375000\n",
       "50%    149.750000   12.900000\n",
       "75%    218.825000   17.400000\n",
       "max    296.400000   27.000000"
      ]
     },
     "execution_count": 5,
     "metadata": {},
     "output_type": "execute_result"
    }
   ],
   "source": [
    "df.describe()"
   ]
  },
  {
   "cell_type": "code",
   "execution_count": 6,
   "id": "d295cb54",
   "metadata": {},
   "outputs": [
    {
     "data": {
      "text/plain": [
       "TV       float64\n",
       "Sales    float64\n",
       "dtype: object"
      ]
     },
     "execution_count": 6,
     "metadata": {},
     "output_type": "execute_result"
    }
   ],
   "source": [
    "df.dtypes"
   ]
  },
  {
   "cell_type": "code",
   "execution_count": 7,
   "id": "e9bca5de",
   "metadata": {},
   "outputs": [
    {
     "data": {
      "text/plain": [
       "(200, 2)"
      ]
     },
     "execution_count": 7,
     "metadata": {},
     "output_type": "execute_result"
    }
   ],
   "source": [
    "df.shape"
   ]
  },
  {
   "cell_type": "code",
   "execution_count": 8,
   "id": "48badcc1",
   "metadata": {},
   "outputs": [
    {
     "data": {
      "text/plain": [
       "TV       0\n",
       "Sales    0\n",
       "dtype: int64"
      ]
     },
     "execution_count": 8,
     "metadata": {},
     "output_type": "execute_result"
    }
   ],
   "source": [
    "df.isnull().sum()"
   ]
  },
  {
   "cell_type": "code",
   "execution_count": 10,
   "id": "074c998b",
   "metadata": {},
   "outputs": [
    {
     "data": {
      "image/png": "[encoded data removed]",
      "text/plain": [
       "<Figure size 640x480 with 1 Axes>"
      ]
     },
     "metadata": {},
     "output_type": "display_data"
    }
   ],
   "source": [
    "plt.scatter(df['TV'],df['Sales'])\n",
    "plt.xlabel('Sales')\n",
    "plt.ylabel('TV')\n",
    "plt.title('Sales vs TV')\n",
    "plt.show()"
   ]
  },
  {
   "cell_type": "code",
   "execution_count": 86,
   "id": "66ba8c1a",
   "metadata": {},
   "outputs": [],
   "source": [
    "from sklearn.model_selection import train_test_split\n",
    "X = df[['TV']]\n",
    "y = df['Sales']\n",
    "\n",
    "X_train, X_test, y_train, y_test = train_test_split(X, y, test_size=0.3, random_state=42)"
   ]
  },
  {
   "cell_type": "code",
   "execution_count": 87,
   "id": "84ffb1a8",
   "metadata": {},
   "outputs": [
    {
     "data": {
      "text/plain": [
       "((140, 1), (140,), (60, 1), (60,))"
      ]
     },
     "execution_count": 87,
     "metadata": {},
     "output_type": "execute_result"
    }
   ],
   "source": [
    "(X_train.shape,y_train.shape,X_test.shape,y_test.shape)"
   ]
  },
  {
   "cell_type": "code",
   "execution_count": 88,
   "id": "33584fcc",
   "metadata": {},
   "outputs": [
    {
     "name": "stdout",
     "output_type": "stream",
     "text": [
      "Intercept (θ0): 7.23945983075114\n",
      "Slope (θ1): 0.04640780212815275\n"
     ]
    },
    {
     "data": {
      "text/plain": [
       "np.float64(362815.24)"
      ]
     },
     "execution_count": 88,
     "metadata": {},
     "output_type": "execute_result"
    }
   ],
   "source": [
    "# performing SLR without formulae\n",
    "\n",
    "n = len(X_train)\n",
    "sum_x = X_train.iloc[:,0].sum()\n",
    "sum_y = y_train.sum()\n",
    "sum_xy = (X_train.iloc[:,0] * y_train).sum()\n",
    "sum_x2 = (X_train.iloc[:,0] ** 2).sum()\n",
    "sum_whole = sum_x ** 2\n",
    "\n",
    "val1 = (n * sum_xy) - (sum_x * sum_y)\n",
    "val2 = (n * sum_x2) - sum_whole\n",
    "theta1 = val1 / val2\n",
    "\n",
    "theta0 = (sum_y - theta1 * sum_x) / n\n",
    "\n",
    "print(\"Intercept (θ0):\", theta0)\n",
    "print(\"Slope (θ1):\", theta1)\n",
    "sum_xy"
   ]
  },
  {
   "cell_type": "code",
   "execution_count": 91,
   "id": "86b76e7f",
   "metadata": {},
   "outputs": [
    {
     "data": {
      "text/plain": [
       "[np.float64(14.817853918278484),\n",
       " np.float64(16.307544366592186),\n",
       " np.float64(20.83230507408708),\n",
       " np.float64(7.782431115650527),\n",
       " np.float64(17.46309863958319),\n",
       " np.float64(10.72468577057541),\n",
       " np.float64(17.300671332134655),\n",
       " np.float64(9.559849937158777),\n",
       " np.float64(17.560555024052313),\n",
       " np.float64(15.365465983390685),\n",
       " np.float64(8.701305597787952),\n",
       " np.float64(9.847578310353324),\n",
       " np.float64(18.12208942980296),\n",
       " np.float64(7.490061962243165),\n",
       " np.float64(13.713348227628448),\n",
       " np.float64(15.138067752962737),\n",
       " np.float64(7.578236786286655),\n",
       " np.float64(16.409641531274122),\n",
       " np.float64(10.733967331001042),\n",
       " np.float64(18.256672055974605),\n",
       " np.float64(17.890050419162197),\n",
       " np.float64(10.385908815039896),\n",
       " np.float64(9.002956311620945),\n",
       " np.float64(18.883177384704666),\n",
       " np.float64(10.44159817759368),\n",
       " np.float64(9.722277244607312),\n",
       " np.float64(17.14752558511175),\n",
       " np.float64(13.704066667202818),\n",
       " np.float64(11.28622017632606),\n",
       " np.float64(7.629285368627623),\n",
       " np.float64(16.51173869595606),\n",
       " np.float64(10.45087973801931),\n",
       " np.float64(16.46997167404072),\n",
       " np.float64(8.02375168671692),\n",
       " np.float64(20.266129888123615),\n",
       " np.float64(18.293798297677125),\n",
       " np.float64(9.480956673540918),\n",
       " np.float64(19.941275273226548),\n",
       " np.float64(12.678454240170643),\n",
       " np.float64(8.51567438927534),\n",
       " np.float64(12.62276487761686),\n",
       " np.float64(15.453640807434176),\n",
       " np.float64(9.239636102474524),\n",
       " np.float64(10.130665903335057),\n",
       " np.float64(17.634807507457356),\n",
       " np.float64(9.012237872046576),\n",
       " np.float64(10.515850660998723),\n",
       " np.float64(14.075329084228041),\n",
       " np.float64(12.093715933355917),\n",
       " np.float64(10.780375133129194),\n",
       " np.float64(10.868549957172686),\n",
       " np.float64(15.054533709132063),\n",
       " np.float64(7.643207709266068),\n",
       " np.float64(7.601440687350731),\n",
       " np.float64(10.785015913342011),\n",
       " np.float64(13.244629426134107),\n",
       " np.float64(10.645792506957552),\n",
       " np.float64(20.68380010727699),\n",
       " np.float64(8.149052752462934),\n",
       " np.float64(16.409641531274122)]"
      ]
     },
     "execution_count": 91,
     "metadata": {},
     "output_type": "execute_result"
    }
   ],
   "source": [
    "y_pred = [theta0 + theta1 * x for x in X_test['TV']]\n",
    "y_pred"
   ]
  },
  {
   "cell_type": "code",
   "execution_count": 97,
   "id": "9adf7873",
   "metadata": {},
   "outputs": [
    {
     "name": "stdout",
     "output_type": "stream",
     "text": [
      "Intercept (θ0): 7.239459830751138\n",
      "Slope (θ1): 0.046407802128152764\n",
      "MSE: 8.970991242413614\n",
      "R2 Score: 0.6714477229302764\n",
      "X_test: 163.3, y_pred: 14.817853918278484, model_y_pred: 14.817853918278484\n",
      "X_test: 195.4, y_pred: 16.30754436659219, model_y_pred: 16.30754436659219\n",
      "X_test: 292.9, y_pred: 20.83230507408708, model_y_pred: 20.83230507408708\n",
      "X_test: 11.7, y_pred: 7.7824311156505255, model_y_pred: 7.7824311156505255\n",
      "X_test: 220.3, y_pred: 17.463098639583194, model_y_pred: 17.463098639583194\n",
      "X_test: 75.1, y_pred: 10.72468577057541, model_y_pred: 10.72468577057541\n",
      "X_test: 216.8, y_pred: 17.30067133213466, model_y_pred: 17.30067133213466\n",
      "X_test: 50.0, y_pred: 9.559849937158777, model_y_pred: 9.559849937158777\n",
      "X_test: 222.4, y_pred: 17.560555024052313, model_y_pred: 17.560555024052313\n",
      "X_test: 175.1, y_pred: 15.365465983390688, model_y_pred: 15.365465983390688\n",
      "X_test: 31.5, y_pred: 8.70130559778795, model_y_pred: 8.70130559778795\n",
      "X_test: 56.2, y_pred: 9.847578310353324, model_y_pred: 9.847578310353324\n",
      "X_test: 234.5, y_pred: 18.122089429802962, model_y_pred: 18.122089429802962\n",
      "X_test: 5.4, y_pred: 7.490061962243163, model_y_pred: 7.490061962243163\n",
      "X_test: 139.5, y_pred: 13.713348227628448, model_y_pred: 13.713348227628448\n",
      "X_test: 170.2, y_pred: 15.138067752962737, model_y_pred: 15.138067752962737\n",
      "X_test: 7.3, y_pred: 7.578236786286653, model_y_pred: 7.578236786286653\n",
      "X_test: 197.6, y_pred: 16.409641531274126, model_y_pred: 16.409641531274126\n",
      "X_test: 75.3, y_pred: 10.733967331001042, model_y_pred: 10.733967331001042\n",
      "X_test: 237.4, y_pred: 18.256672055974605, model_y_pred: 18.256672055974605\n",
      "X_test: 229.5, y_pred: 17.890050419162197, model_y_pred: 17.890050419162197\n",
      "X_test: 67.8, y_pred: 10.385908815039896, model_y_pred: 10.385908815039896\n",
      "X_test: 38.0, y_pred: 9.002956311620943, model_y_pred: 9.002956311620943\n",
      "X_test: 250.9, y_pred: 18.883177384704666, model_y_pred: 18.883177384704666\n",
      "X_test: 69.0, y_pred: 10.44159817759368, model_y_pred: 10.44159817759368\n",
      "X_test: 53.5, y_pred: 9.72227724460731, model_y_pred: 9.72227724460731\n",
      "X_test: 213.5, y_pred: 17.147525585111755, model_y_pred: 17.147525585111755\n",
      "X_test: 139.3, y_pred: 13.704066667202818, model_y_pred: 13.704066667202818\n",
      "X_test: 87.2, y_pred: 11.28622017632606, model_y_pred: 11.28622017632606\n",
      "X_test: 8.4, y_pred: 7.629285368627621, model_y_pred: 7.629285368627621\n",
      "X_test: 199.8, y_pred: 16.511738695956062, model_y_pred: 16.511738695956062\n",
      "X_test: 69.2, y_pred: 10.45087973801931, model_y_pred: 10.45087973801931\n",
      "X_test: 198.9, y_pred: 16.469971674040725, model_y_pred: 16.469971674040725\n",
      "X_test: 16.9, y_pred: 8.02375168671692, model_y_pred: 8.02375168671692\n",
      "X_test: 280.7, y_pred: 20.26612988812362, model_y_pred: 20.26612988812362\n",
      "X_test: 238.2, y_pred: 18.293798297677125, model_y_pred: 18.293798297677125\n",
      "X_test: 48.3, y_pred: 9.480956673540916, model_y_pred: 9.480956673540916\n",
      "X_test: 273.7, y_pred: 19.941275273226548, model_y_pred: 19.941275273226548\n",
      "X_test: 117.2, y_pred: 12.678454240170641, model_y_pred: 12.678454240170641\n",
      "X_test: 27.5, y_pred: 8.51567438927534, model_y_pred: 8.51567438927534\n",
      "X_test: 116.0, y_pred: 12.62276487761686, model_y_pred: 12.62276487761686\n",
      "X_test: 177.0, y_pred: 15.453640807434176, model_y_pred: 15.453640807434176\n",
      "X_test: 43.1, y_pred: 9.239636102474522, model_y_pred: 9.239636102474522\n",
      "X_test: 62.3, y_pred: 10.130665903335055, model_y_pred: 10.130665903335055\n",
      "X_test: 224.0, y_pred: 17.634807507457356, model_y_pred: 17.634807507457356\n",
      "X_test: 38.2, y_pred: 9.012237872046574, model_y_pred: 9.012237872046574\n",
      "X_test: 70.6, y_pred: 10.515850660998723, model_y_pred: 10.515850660998723\n",
      "X_test: 147.3, y_pred: 14.075329084228041, model_y_pred: 14.075329084228041\n",
      "X_test: 104.6, y_pred: 12.093715933355917, model_y_pred: 12.093715933355917\n",
      "X_test: 76.3, y_pred: 10.780375133129194, model_y_pred: 10.780375133129194\n",
      "X_test: 78.2, y_pred: 10.868549957172684, model_y_pred: 10.868549957172684\n",
      "X_test: 168.4, y_pred: 15.054533709132064, model_y_pred: 15.054533709132064\n",
      "X_test: 8.7, y_pred: 7.6432077092660675, model_y_pred: 7.6432077092660675\n",
      "X_test: 7.8, y_pred: 7.601440687350729, model_y_pred: 7.601440687350729\n",
      "X_test: 76.4, y_pred: 10.78501591334201, model_y_pred: 10.78501591334201\n",
      "X_test: 129.4, y_pred: 13.244629426134107, model_y_pred: 13.244629426134107\n",
      "X_test: 73.4, y_pred: 10.645792506957552, model_y_pred: 10.645792506957552\n",
      "X_test: 289.7, y_pred: 20.683800107276994, model_y_pred: 20.683800107276994\n",
      "X_test: 19.6, y_pred: 8.149052752462932, model_y_pred: 8.149052752462932\n",
      "X_test: 197.6, y_pred: 16.409641531274126, model_y_pred: 16.409641531274126\n"
     ]
    },
    {
     "name": "stderr",
     "output_type": "stream",
     "text": [
      "c:\\Users\\Panchakoti Sravan\\AppData\\Local\\Programs\\Python\\Python312\\Lib\\site-packages\\sklearn\\utils\\validation.py:2739: UserWarning: X does not have valid feature names, but LinearRegression was fitted with feature names\n",
      "  warnings.warn(\n"
     ]
    }
   ],
   "source": [
    "from sklearn.linear_model import LinearRegression\n",
    "from sklearn.metrics import mean_squared_error,r2_score\n",
    "\n",
    "model = LinearRegression()\n",
    "\n",
    "model.fit(X_train, y_train)\n",
    "\n",
    "model_y_pred = model.predict(X_test.values.reshape(-1, 1))\n",
    "\n",
    "print(\"Intercept (θ0):\", model.intercept_)\n",
    "print(\"Slope (θ1):\", model.coef_[0])\n",
    "print(\"MSE:\", mean_squared_error(y_test, model_y_pred))\n",
    "print(\"R2 Score:\", r2_score(y_test, model_y_pred))\n",
    "\n",
    "for i in range(len(X_test)):\n",
    "    print(f\"X_test: {X_test.iloc[i, 0]}, y_pred: {y_pred[i]}, model_y_pred: {model_y_pred[i]}\")\n"
   ]
  },
  {
   "cell_type": "code",
   "execution_count": 112,
   "id": "0c6be0e0",
   "metadata": {},
   "outputs": [
    {
     "data": {
      "image/png": "[encoded data removed]",
      "text/plain": [
       "<Figure size 640x480 with 1 Axes>"
      ]
     },
     "metadata": {},
     "output_type": "display_data"
    }
   ],
   "source": [
    "plt.scatter(X_train,y_train,color=\"blue\")\n",
    "plt.plot(X_train,model.predict(X_train),color=\"red\")\n",
    "plt.xlabel('TV')\n",
    "plt.ylabel('Sales')\n",
    "plt.title('Sales vs TV')\n",
    "\n",
    "plt.show()"
   ]
  },
  {
   "cell_type": "code",
   "execution_count": 113,
   "id": "d77e35ca",
   "metadata": {},
   "outputs": [
    {
     "data": {
      "image/png": "[encoded data removed]",
      "text/plain": [
       "<Figure size 640x480 with 1 Axes>"
      ]
     },
     "metadata": {},
     "output_type": "display_data"
    }
   ],
   "source": [
    "plt.scatter(X_test,y_test,color=\"blue\")\n",
    "plt.plot(X_test,model.predict(X_test),color=\"red\")\n",
    "plt.xlabel('TV')\n",
    "plt.ylabel('Sales')\n",
    "plt.title('Sales vs TV')\n",
    "\n",
    "plt.show()"
   ]
  },
  {
   "cell_type": "code",
   "execution_count": 119,
   "id": "e0f38e09",
   "metadata": {},
   "outputs": [
    {
     "data": {
      "text/plain": [
       "0.6714477229302767"
      ]
     },
     "execution_count": 119,
     "metadata": {},
     "output_type": "execute_result"
    }
   ],
   "source": [
    "value = sum((y_test  - model_y_pred) ** 2) / sum((y_test - y_test.mean()) ** 2)\n",
    "val = 1 - value\n",
    "val"
   ]
  },
  {
   "cell_type": "code",
   "execution_count": null,
   "id": "1374b953",
   "metadata": {},
   "outputs": [],
   "source": [
    " "
   ]
  }
 ],
 "metadata": {
  "kernelspec": {
   "display_name": "Python 3",
   "language": "python",
   "name": "python3"
  },
  "language_info": {
   "codemirror_mode": {
    "name": "ipython",
    "version": 3
   },
   "file_extension": ".py",
   "mimetype": "text/x-python",
   "name": "python",
   "nbconvert_exporter": "python",
   "pygments_lexer": "ipython3",
   "version": "3.12.2"
  }
 },
 "nbformat": 4,
 "nbformat_minor": 5
}
