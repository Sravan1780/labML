{
 "cells": [
  {
   "cell_type": "code",
   "execution_count": 1,
   "id": "c7f97719",
   "metadata": {},
   "outputs": [],
   "source": [
    "import pandas as pd\n",
    "import numpy as np\n",
    "import matplotlib.pyplot as plt\n",
    "import seaborn as sns\n"
   ]
  },
  {
   "cell_type": "code",
   "execution_count": 2,
   "id": "1eb34c67",
   "metadata": {},
   "outputs": [
    {
     "data": {
      "text/html": [
       "<div>\n",
       "<style scoped>\n",
       "    .dataframe tbody tr th:only-of-type {\n",
       "        vertical-align: middle;\n",
       "    }\n",
       "\n",
       "    .dataframe tbody tr th {\n",
       "        vertical-align: top;\n",
       "    }\n",
       "\n",
       "    .dataframe thead th {\n",
       "        text-align: right;\n",
       "    }\n",
       "</style>\n",
       "<table border=\"1\" class=\"dataframe\">\n",
       "  <thead>\n",
       "    <tr style=\"text-align: right;\">\n",
       "      <th></th>\n",
       "      <th>text</th>\n",
       "      <th>target</th>\n",
       "      <th>category</th>\n",
       "    </tr>\n",
       "  </thead>\n",
       "  <tbody>\n",
       "    <tr>\n",
       "      <th>0</th>\n",
       "      <td>From: degroff@netcom.com (21012d)\\nSubject: Re...</td>\n",
       "      <td>2</td>\n",
       "      <td>sci.space</td>\n",
       "    </tr>\n",
       "    <tr>\n",
       "      <th>1</th>\n",
       "      <td>From: ab@nova.cc.purdue.edu (Allen B)\\nSubject...</td>\n",
       "      <td>1</td>\n",
       "      <td>comp.graphics</td>\n",
       "    </tr>\n",
       "    <tr>\n",
       "      <th>2</th>\n",
       "      <td>From: healta@saturn.wwc.edu (Tammy R Healy)\\nS...</td>\n",
       "      <td>0</td>\n",
       "      <td>alt.atheism</td>\n",
       "    </tr>\n",
       "    <tr>\n",
       "      <th>3</th>\n",
       "      <td>From: capelli@vnet.IBM.COM (Ron Capelli)\\nSubj...</td>\n",
       "      <td>1</td>\n",
       "      <td>comp.graphics</td>\n",
       "    </tr>\n",
       "    <tr>\n",
       "      <th>4</th>\n",
       "      <td>From: henry@zoo.toronto.edu (Henry Spencer)\\nS...</td>\n",
       "      <td>2</td>\n",
       "      <td>sci.space</td>\n",
       "    </tr>\n",
       "  </tbody>\n",
       "</table>\n",
       "</div>"
      ],
      "text/plain": [
       "                                                text  target       category\n",
       "0  From: degroff@netcom.com (21012d)\\nSubject: Re...       2      sci.space\n",
       "1  From: ab@nova.cc.purdue.edu (Allen B)\\nSubject...       1  comp.graphics\n",
       "2  From: healta@saturn.wwc.edu (Tammy R Healy)\\nS...       0    alt.atheism\n",
       "3  From: capelli@vnet.IBM.COM (Ron Capelli)\\nSubj...       1  comp.graphics\n",
       "4  From: henry@zoo.toronto.edu (Henry Spencer)\\nS...       2      sci.space"
      ]
     },
     "execution_count": 2,
     "metadata": {},
     "output_type": "execute_result"
    }
   ],
   "source": [
    "df = pd.read_csv('newsgroups_train.csv')\n",
    "df.head()"
   ]
  },
  {
   "cell_type": "code",
   "execution_count": 3,
   "id": "81097df2",
   "metadata": {},
   "outputs": [
    {
     "data": {
      "text/plain": [
       "(1657, 3)"
      ]
     },
     "execution_count": 3,
     "metadata": {},
     "output_type": "execute_result"
    }
   ],
   "source": [
    "df.shape"
   ]
  },
  {
   "cell_type": "code",
   "execution_count": 4,
   "id": "016a1283",
   "metadata": {},
   "outputs": [
    {
     "data": {
      "text/plain": [
       "array([2, 1, 0])"
      ]
     },
     "execution_count": 4,
     "metadata": {},
     "output_type": "execute_result"
    }
   ],
   "source": [
    "target_names = df['target'].unique()\n",
    "target_names"
   ]
  },
  {
   "cell_type": "code",
   "execution_count": 5,
   "id": "8d423c65",
   "metadata": {},
   "outputs": [
    {
     "data": {
      "text/plain": [
       "{2: 'sci.space', 1: 'comp.graphics', 0: 'alt.atheism'}"
      ]
     },
     "execution_count": 5,
     "metadata": {},
     "output_type": "execute_result"
    }
   ],
   "source": [
    "dict =  {2 : 'sci.space',1: 'comp.graphics',0:'alt.atheism'}\n",
    "dict"
   ]
  },
  {
   "cell_type": "code",
   "execution_count": 6,
   "id": "e7aad22c",
   "metadata": {},
   "outputs": [
    {
     "data": {
      "text/plain": [
       "['sci.space', 'comp.graphics', 'alt.atheism']"
      ]
     },
     "execution_count": 6,
     "metadata": {},
     "output_type": "execute_result"
    }
   ],
   "source": [
    "ls = [dict.get(val) for val in target_names]\n",
    "ls"
   ]
  },
  {
   "cell_type": "code",
   "execution_count": 7,
   "id": "df4c4de2",
   "metadata": {},
   "outputs": [
    {
     "data": {
      "text/plain": [
       "array(['sci.space', 'comp.graphics', 'alt.atheism'], dtype=object)"
      ]
     },
     "execution_count": 7,
     "metadata": {},
     "output_type": "execute_result"
    }
   ],
   "source": [
    "labels = df['category'].unique()\n",
    "labels"
   ]
  },
  {
   "cell_type": "code",
   "execution_count": 8,
   "id": "694df032",
   "metadata": {},
   "outputs": [
    {
     "name": "stdout",
     "output_type": "stream",
     "text": [
      "From: henry@zoo.toronto.edu (Henry Spencer)\n",
      "Subject: Re: TRUE \"GLOBE\", Who makes it?\n",
      "Organization: U of Toronto Zoology\n",
      "Lines: 12\n",
      "\n",
      "In article <bill.047m@xpresso.UUCP> bill@xpresso.UUCP (Bill Vance) writes:\n",
      ">It has been known for quite a while that the earth is actually more pear\n",
      ">shaped than globular/spherical.  Does anyone make a \"globe\" that is accurate\n",
      ">as to actual shape, landmass configuration/Long/Lat lines etc.?\n",
      "\n",
      "I don't think you're going to be able to see the differences from a sphere\n",
      "unless they are greatly exaggerated.  Even the equatorial bulge is only\n",
      "about 1 part in 300 -- you'd never notice a 1mm error in a 30cm globe --\n",
      "and the other deviations from spherical shape are much smaller.\n",
      "-- \n",
      "SVR4 resembles a high-speed collision   | Henry Spencer @ U of Toronto Zoology\n",
      "between SVR3 and SunOS.    - Dick Dunn  |  henry@zoo.toronto.edu  utzoo!henry\n",
      "\n"
     ]
    }
   ],
   "source": [
    "article_fifth = df['text'][4]\n",
    "print(article_fifth)"
   ]
  },
  {
   "cell_type": "code",
   "execution_count": 9,
   "id": "a380ad69",
   "metadata": {},
   "outputs": [
    {
     "data": {
      "text/plain": [
       "array([[0, 0, 0, ..., 0, 0, 0],\n",
       "       [0, 0, 0, ..., 0, 0, 0],\n",
       "       [0, 0, 0, ..., 0, 0, 0],\n",
       "       ...,\n",
       "       [0, 0, 0, ..., 0, 0, 0],\n",
       "       [0, 0, 0, ..., 0, 0, 0],\n",
       "       [0, 0, 0, ..., 0, 0, 0]])"
      ]
     },
     "execution_count": 9,
     "metadata": {},
     "output_type": "execute_result"
    }
   ],
   "source": [
    "from sklearn.feature_extraction.text import CountVectorizer\n",
    "\n",
    "vectoriser = CountVectorizer(max_features=1500)\n",
    "vectors = vectoriser.fit_transform(df['text']).toarray()\n",
    "vectors"
   ]
  },
  {
   "cell_type": "code",
   "execution_count": 10,
   "id": "c72500bd",
   "metadata": {},
   "outputs": [
    {
     "data": {
      "text/plain": [
       "((1657, 1500), (1657,))"
      ]
     },
     "execution_count": 10,
     "metadata": {},
     "output_type": "execute_result"
    }
   ],
   "source": [
    "X = vectors\n",
    "y = df['target']\n",
    "X.shape, y.shape"
   ]
  },
  {
   "cell_type": "code",
   "execution_count": 11,
   "id": "844bcef4",
   "metadata": {},
   "outputs": [
    {
     "data": {
      "text/plain": [
       "((1325, 1500), (332, 1500), (1325,), (332,))"
      ]
     },
     "execution_count": 11,
     "metadata": {},
     "output_type": "execute_result"
    }
   ],
   "source": [
    "from sklearn.model_selection import train_test_split\n",
    "X_train, X_test, y_train, y_test = train_test_split(X, y, test_size=0.2, random_state=42)\n",
    "X_train.shape, X_test.shape, y_train.shape, y_test.shape"
   ]
  },
  {
   "cell_type": "code",
   "execution_count": 12,
   "id": "92befed7",
   "metadata": {},
   "outputs": [
    {
     "data": {
      "text/plain": [
       "array([0, 1, 1, 0, 2, 0, 1, 2, 1, 1, 1, 2, 0, 0, 0, 1, 0, 2, 0, 1, 1, 1,\n",
       "       2, 2, 1, 2, 2, 0, 0, 2, 2, 1, 1, 2, 2, 1, 2, 0, 2, 2, 1, 2, 0, 1,\n",
       "       1, 1, 1, 1, 2, 1, 2, 1, 1, 1, 1, 0, 1, 0, 2, 2, 2, 1, 2, 1, 2, 1,\n",
       "       1, 1, 0, 0, 2, 0, 2, 1, 1, 1, 2, 1, 0, 0, 1, 2, 2, 1, 1, 1, 1, 1,\n",
       "       2, 2, 1, 2, 2, 0, 0, 1, 1, 1, 0, 0, 1, 0, 0, 0, 0, 0, 1, 1, 0, 1,\n",
       "       2, 0, 0, 1, 0, 0, 1, 1, 0, 2, 1, 1, 0, 0, 1, 0, 0, 2, 2, 0, 1, 1,\n",
       "       0, 1, 0, 1, 0, 2, 1, 0, 1, 1, 1, 0, 0, 0, 2, 1, 1, 2, 1, 2, 2, 1,\n",
       "       2, 1, 2, 1, 1, 1, 1, 1, 2, 0, 0, 1, 1, 1, 2, 1, 0, 2, 2, 1, 2, 1,\n",
       "       0, 1, 1, 2, 0, 1, 2, 1, 1, 1, 0, 0, 2, 2, 2, 1, 1, 1, 0, 1, 1, 0,\n",
       "       0, 2, 0, 1, 1, 2, 0, 2, 0, 0, 0, 0, 0, 1, 0, 1, 2, 2, 2, 0, 2, 1,\n",
       "       1, 0, 1, 0, 2, 0, 2, 1, 1, 2, 0, 2, 0, 1, 1, 2, 1, 0, 1, 2, 0, 0,\n",
       "       1, 0, 2, 2, 1, 1, 1, 0, 1, 1, 2, 1, 0, 2, 1, 1, 2, 1, 2, 1, 1, 1,\n",
       "       1, 2, 0, 0, 0, 2, 1, 0, 0, 1, 0, 2, 0, 1, 2, 1, 2, 1, 2, 1, 2, 0,\n",
       "       1, 2, 2, 0, 1, 1, 1, 1, 0, 2, 2, 2, 2, 2, 0, 1, 0, 2, 1, 0, 1, 2,\n",
       "       0, 0, 1, 1, 1, 1, 2, 1, 2, 1, 2, 1, 1, 2, 2, 0, 2, 1, 1, 2, 2, 1,\n",
       "       0, 2])"
      ]
     },
     "execution_count": 12,
     "metadata": {},
     "output_type": "execute_result"
    }
   ],
   "source": [
    "from sklearn.naive_bayes import BernoulliNB\n",
    "\n",
    "model = BernoulliNB()\n",
    "model.fit(X_train, y_train)\n",
    "y_pred = model.predict(X_test)\n",
    "y_pred"
   ]
  },
  {
   "cell_type": "code",
   "execution_count": 13,
   "id": "01f4c7fd",
   "metadata": {},
   "outputs": [
    {
     "name": "stdout",
     "output_type": "stream",
     "text": [
      "Accuracy:  0.8945783132530121\n",
      "Confusion Matrix: \n",
      " [[ 91   8   2]\n",
      " [  1 116   5]\n",
      " [  1  18  90]]\n",
      "              precision    recall  f1-score   support\n",
      "\n",
      "           0       0.98      0.90      0.94       101\n",
      "           1       0.82      0.95      0.88       122\n",
      "           2       0.93      0.83      0.87       109\n",
      "\n",
      "    accuracy                           0.89       332\n",
      "   macro avg       0.91      0.89      0.90       332\n",
      "weighted avg       0.90      0.89      0.90       332\n",
      "\n"
     ]
    }
   ],
   "source": [
    "from sklearn.metrics import classification_report,confusion_matrix,accuracy_score\n",
    "\n",
    "accuracy = accuracy_score(y_test, y_pred)\n",
    "c_matric = confusion_matrix(y_test, y_pred)\n",
    "c_report = classification_report(y_test, y_pred)\n",
    "\n",
    "\n",
    "print(\"Accuracy: \", accuracy)\n",
    "print(\"Confusion Matrix: \\n\", c_matric)\n",
    "print(c_report)"
   ]
  },
  {
   "cell_type": "code",
   "execution_count": 14,
   "id": "b3de068d",
   "metadata": {},
   "outputs": [
    {
     "data": {
      "text/plain": [
       "array([[0., 0., 0., ..., 0., 0., 0.],\n",
       "       [0., 0., 0., ..., 0., 0., 0.],\n",
       "       [0., 0., 0., ..., 0., 0., 0.],\n",
       "       ...,\n",
       "       [0., 0., 0., ..., 0., 0., 0.],\n",
       "       [0., 0., 0., ..., 0., 0., 0.],\n",
       "       [0., 0., 0., ..., 0., 0., 0.]])"
      ]
     },
     "execution_count": 14,
     "metadata": {},
     "output_type": "execute_result"
    }
   ],
   "source": [
    "from sklearn.feature_extraction.text import TfidfVectorizer\n",
    "\n",
    "tfidf_vectoriser = TfidfVectorizer(max_features=1500)\n",
    "vectors = tfidf_vectoriser.fit_transform(df['text']).toarray()\n",
    "vectors"
   ]
  },
  {
   "cell_type": "code",
   "execution_count": null,
   "metadata": {},
   "outputs": [
    {
     "data": {
      "text/plain": [
       "array([0, 1, 1, 0, 2, 0, 1, 2, 1, 1, 1, 2, 0, 0, 0, 1, 0, 2, 0, 2, 1, 1,\n",
       "       2, 2, 1, 2, 2, 0, 0, 2, 2, 0, 1, 2, 2, 1, 2, 0, 2, 2, 1, 2, 0, 1,\n",
       "       1, 1, 1, 0, 2, 1, 2, 1, 1, 1, 1, 0, 2, 0, 2, 2, 2, 1, 2, 1, 2, 1,\n",
       "       1, 1, 1, 0, 1, 0, 2, 1, 0, 2, 2, 2, 0, 0, 2, 2, 2, 1, 1, 1, 1, 1,\n",
       "       1, 2, 1, 2, 2, 0, 0, 1, 1, 1, 0, 0, 1, 0, 0, 0, 0, 0, 1, 1, 0, 2,\n",
       "       2, 0, 0, 1, 0, 0, 1, 1, 0, 2, 1, 1, 0, 0, 1, 0, 0, 1, 2, 0, 2, 1,\n",
       "       0, 1, 0, 1, 0, 2, 1, 0, 1, 1, 1, 0, 0, 0, 2, 1, 1, 2, 1, 1, 2, 1,\n",
       "       1, 1, 2, 2, 1, 1, 1, 1, 2, 0, 0, 0, 2, 2, 2, 1, 0, 2, 2, 1, 2, 1,\n",
       "       0, 1, 2, 2, 0, 2, 2, 2, 1, 1, 0, 0, 2, 2, 2, 1, 1, 0, 0, 0, 1, 0,\n",
       "       0, 2, 0, 1, 1, 2, 0, 2, 0, 0, 0, 0, 0, 1, 0, 1, 2, 1, 2, 0, 2, 1,\n",
       "       1, 0, 1, 0, 2, 0, 2, 2, 1, 2, 0, 2, 0, 1, 1, 2, 1, 0, 1, 2, 0, 0,\n",
       "       1, 0, 2, 2, 1, 1, 1, 0, 2, 1, 2, 1, 0, 2, 2, 1, 2, 1, 2, 1, 1, 0,\n",
       "       1, 2, 0, 0, 0, 2, 1, 0, 0, 2, 0, 2, 0, 2, 2, 1, 2, 1, 2, 1, 2, 0,\n",
       "       1, 2, 2, 0, 1, 1, 1, 1, 0, 2, 2, 2, 2, 2, 0, 1, 0, 2, 1, 0, 1, 2,\n",
       "       0, 0, 1, 1, 1, 1, 2, 1, 2, 1, 2, 2, 1, 2, 2, 0, 2, 0, 1, 2, 2, 1,\n",
       "       0, 2])"
      ]
     },
     "execution_count": 17,
     "metadata": {},
     "output_type": "execute_result"
    }
   ],
   "source": [
    "from sklearn.naive_bayes import MultinomialNB\n",
    "\n",
    "model = MultinomialNB()\n",
    "model.fit(X_train, y_train)\n",
    "y_pred = model.predict(X_test)\n",
    "y_pred\n"
   ]
  },
  {
   "cell_type": "code",
   "execution_count": 16,
   "id": "53be2b54",
   "metadata": {},
   "outputs": [
    {
     "name": "stdout",
     "output_type": "stream",
     "text": [
      "Accuracy:  0.9668674698795181\n",
      "Confusion Matrix: \n",
      " [[ 98   0   3]\n",
      " [  0 119   3]\n",
      " [  2   3 104]]\n",
      "              precision    recall  f1-score   support\n",
      "\n",
      "           0       0.98      0.97      0.98       101\n",
      "           1       0.98      0.98      0.98       122\n",
      "           2       0.95      0.95      0.95       109\n",
      "\n",
      "    accuracy                           0.97       332\n",
      "   macro avg       0.97      0.97      0.97       332\n",
      "weighted avg       0.97      0.97      0.97       332\n",
      "\n"
     ]
    }
   ],
   "source": [
    "from sklearn.metrics import classification_report,confusion_matrix,accuracy_score\n",
    "\n",
    "accuracy = accuracy_score(y_test, y_pred)\n",
    "c_matric = confusion_matrix(y_test, y_pred)\n",
    "c_report = classification_report(y_test, y_pred)\n",
    "\n",
    "\n",
    "print(\"Accuracy: \", accuracy)\n",
    "print(\"Confusion Matrix: \\n\", c_matric)\n",
    "print(c_report)"
   ]
  }
 ],
 "metadata": {
  "kernelspec": {
   "display_name": "Python 3",
   "language": "python",
   "name": "python3"
  },
  "language_info": {
   "codemirror_mode": {
    "name": "ipython",
    "version": 3
   },
   "file_extension": ".py",
   "mimetype": "text/x-python",
   "name": "python",
   "nbconvert_exporter": "python",
   "pygments_lexer": "ipython3",
   "version": "3.12.2"
  }
 },
 "nbformat": 4,
 "nbformat_minor": 5
}
